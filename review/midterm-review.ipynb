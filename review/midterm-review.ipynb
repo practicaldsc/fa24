{
 "cells": [
  {
   "cell_type": "markdown",
   "id": "6778cd7a-10a8-4006-858b-345f9e13e994",
   "metadata": {},
   "source": [
    "# Practical DSC Midterm Review"
   ]
  },
  {
   "cell_type": "code",
   "execution_count": null,
   "id": "369329c9-5558-4133-b70e-d11107b4b30d",
   "metadata": {},
   "outputs": [],
   "source": [
    "import numpy as np\n",
    "import pandas as pd\n",
    "import plotly.express as px"
   ]
  },
  {
   "cell_type": "code",
   "execution_count": null,
   "id": "1228027f-0c42-4a6f-9ce6-65999de5c121",
   "metadata": {},
   "outputs": [],
   "source": [
    "reviews = pd.read_csv(\"reviews.csv\", index_col=0)\n",
    "reviews"
   ]
  },
  {
   "cell_type": "markdown",
   "id": "cfe800c5-7af8-4793-b061-5dd92c1dbef4",
   "metadata": {},
   "source": [
    "# Problem 2"
   ]
  },
  {
   "cell_type": "code",
   "execution_count": null,
   "id": "80402ee5-efbe-481a-9b9a-10d5a4491e85",
   "metadata": {},
   "outputs": [],
   "source": [
    "pd.Series([\"aasdf\", \"b\", [\"a\", \"b\"]]).str.len()"
   ]
  },
  {
   "cell_type": "code",
   "execution_count": null,
   "id": "a5cda509-5546-4408-936f-2d802600d5fa",
   "metadata": {},
   "outputs": [],
   "source": [
    "def operate(df):\n",
    "    df[\"content\"] = df[\"content\"].str.split().str.len()"
   ]
  },
  {
   "cell_type": "code",
   "execution_count": null,
   "id": "0b47c402-7cb7-4908-91d3-cbd403b94b80",
   "metadata": {},
   "outputs": [],
   "source": [
    "reviews = pd.read_csv(\"reviews.csv\", index_col=0)\n",
    "operate(reviews)"
   ]
  },
  {
   "cell_type": "code",
   "execution_count": null,
   "id": "e6ccbd08-3c17-469b-b123-09514415ed65",
   "metadata": {},
   "outputs": [],
   "source": [
    "reviews = pd.read_csv(\"reviews.csv\", index_col=0)\n",
    "operate(reviews)\n",
    "operate(reviews)\n",
    "reviews"
   ]
  },
  {
   "cell_type": "code",
   "execution_count": null,
   "id": "93aaa922-ace7-43aa-bf26-099f4ff9b21f",
   "metadata": {},
   "outputs": [],
   "source": [
    "reviews = pd.read_csv(\"reviews.csv\", index_col=0)\n",
    "reviews = operate(reviews)"
   ]
  },
  {
   "cell_type": "code",
   "execution_count": null,
   "id": "cb93bb10-b20b-4747-bba1-e7368b516603",
   "metadata": {},
   "outputs": [],
   "source": [
    "reviews"
   ]
  },
  {
   "cell_type": "code",
   "execution_count": null,
   "id": "010a77c5-2557-4acd-b40d-3c5846c06c31",
   "metadata": {},
   "outputs": [],
   "source": [
    "reviews = pd.read_csv(\"reviews.csv\", index_col=0)\n",
    "reviews = operate(reviews)\n",
    "reviews = operate(reviews)\n",
    "reviews"
   ]
  },
  {
   "cell_type": "markdown",
   "id": "111fa7bf-0574-4581-8b54-b748c246085d",
   "metadata": {},
   "source": [
    "# Problem 3"
   ]
  },
  {
   "cell_type": "code",
   "execution_count": null,
   "id": "58e97780-fb4d-40e8-b1c7-53d7a07ed673",
   "metadata": {},
   "outputs": [],
   "source": [
    "reviews = pd.read_csv(\"reviews.csv\", index_col=0)\n",
    "littlereviews = reviews.sample(5).reset_index(drop=True)\n",
    "littlereviews"
   ]
  },
  {
   "cell_type": "code",
   "execution_count": null,
   "id": "8639aa3c-e002-4e26-8e92-7b01c52939a1",
   "metadata": {},
   "outputs": [],
   "source": [
    "littlereviews.loc[[True, False, False, False, False]]"
   ]
  },
  {
   "cell_type": "code",
   "execution_count": null,
   "id": "292fd891-6a04-4b02-9d6d-258e0118dc02",
   "metadata": {},
   "outputs": [],
   "source": [
    "n = littlereviews.shape[0]\n",
    "n"
   ]
  },
  {
   "cell_type": "code",
   "execution_count": null,
   "id": "617db799-719a-42d4-9989-96bd34ec66aa",
   "metadata": {},
   "outputs": [],
   "source": [
    "np.random.seed(23)\n",
    "np.random.choice([True, False], size=n, replace=True)"
   ]
  },
  {
   "cell_type": "code",
   "execution_count": null,
   "id": "bb0a6ab2-bbdc-4d2b-947d-7d88fb90d10c",
   "metadata": {},
   "outputs": [],
   "source": [
    "np.random.seed(23)\n",
    "littlereviews.loc[np.random.choice([True, False], size=n, replace=True)]"
   ]
  },
  {
   "cell_type": "code",
   "execution_count": null,
   "id": "bfea54c5-ec6a-42a4-8a92-502f2b57d371",
   "metadata": {},
   "outputs": [],
   "source": [
    "np.arange(n)"
   ]
  },
  {
   "cell_type": "code",
   "execution_count": null,
   "id": "c4bcc443-689c-4458-8c6c-c4d3a1f75b4f",
   "metadata": {},
   "outputs": [],
   "source": [
    "np.random.seed(23)\n",
    "np.random.permutation(np.arange(n))"
   ]
  },
  {
   "cell_type": "code",
   "execution_count": null,
   "id": "29304a31-8ba6-4934-9b08-bb53f83c7a00",
   "metadata": {},
   "outputs": [],
   "source": [
    "np.random.seed(23)\n",
    "littlereviews.loc[np.random.permutation(np.arange(n))]"
   ]
  },
  {
   "cell_type": "code",
   "execution_count": null,
   "id": "b101c61f-f065-4acf-aae3-08bde27a8692",
   "metadata": {},
   "outputs": [],
   "source": [
    "np.random.seed(23)\n",
    "littlereviews.loc[np.random.choice(np.arange(n), size=n, replace=True)]"
   ]
  },
  {
   "cell_type": "code",
   "execution_count": null,
   "id": "8a64010b-74fe-4c29-b252-46e6885468b6",
   "metadata": {},
   "outputs": [],
   "source": [
    "np.random.seed(23)\n",
    "littlereviews.loc[np.random.choice(np.arange(n), size=n, replace=False)]"
   ]
  },
  {
   "cell_type": "markdown",
   "id": "8b3c2a77-8a37-4061-80d1-a3cbbff9e8c8",
   "metadata": {},
   "source": [
    "# Problem 4"
   ]
  },
  {
   "cell_type": "code",
   "execution_count": null,
   "id": "8cc0cc0c-abaa-4eac-aaa6-5906b6e6d6c8",
   "metadata": {},
   "outputs": [],
   "source": [
    "authors = reviews[\"author\"]\n",
    "authors"
   ]
  },
  {
   "cell_type": "code",
   "execution_count": null,
   "id": "2b9a8f4d-5d61-4b6d-9f1c-e1a0cec9acaf",
   "metadata": {},
   "outputs": [],
   "source": [
    "authors.value_counts()"
   ]
  },
  {
   "cell_type": "code",
   "execution_count": null,
   "id": "ede76652-7aa5-4ecd-9279-25e492e755b7",
   "metadata": {},
   "outputs": [],
   "source": [
    "authors.value_counts().value_counts().iloc[-2]"
   ]
  },
  {
   "cell_type": "code",
   "execution_count": null,
   "id": "873e477c-8e09-4241-bbda-6437f9b4ca19",
   "metadata": {},
   "outputs": [],
   "source": [
    "authors.value_counts().value_counts().iloc[7]"
   ]
  },
  {
   "cell_type": "code",
   "execution_count": null,
   "id": "277eda38-6bde-4e2e-97cc-a6eacaf9c86f",
   "metadata": {},
   "outputs": [],
   "source": [
    "authors.value_counts().value_counts().loc[7]"
   ]
  },
  {
   "cell_type": "code",
   "execution_count": null,
   "id": "76bc53ef-db8e-44cd-9a8a-8427a4028510",
   "metadata": {},
   "outputs": [],
   "source": [
    "authors.value_counts().value_counts().index[-2]"
   ]
  },
  {
   "cell_type": "code",
   "execution_count": null,
   "id": "435b1a3d-9a3e-4260-bacd-981c86cc0894",
   "metadata": {},
   "outputs": [],
   "source": [
    "double = authors.value_counts().value_counts()\n",
    "double"
   ]
  },
  {
   "cell_type": "code",
   "execution_count": null,
   "id": "0c59da47-313d-4e88-8daa-2f0d6cfa2e24",
   "metadata": {},
   "outputs": [],
   "source": [
    "fig = px.bar(x = double.index, y = double.values)\n",
    "fig.show()"
   ]
  },
  {
   "cell_type": "markdown",
   "id": "87edcdc1-c527-4276-86b8-8b4505c68b06",
   "metadata": {},
   "source": [
    "# Problem 8"
   ]
  },
  {
   "cell_type": "code",
   "execution_count": null,
   "id": "9b6ad264-866d-4e63-98e8-c6da2c634f73",
   "metadata": {},
   "outputs": [],
   "source": [
    "framer = reviews.pivot_table(index=\"airline\",\n",
    "                                columns=\"cabin\",\n",
    "                                values=\"author\",\n",
    "                                aggfunc=\"max\")\n"
   ]
  },
  {
   "cell_type": "code",
   "execution_count": null,
   "id": "32f3c21f-5032-45e8-8623-458a3828e015",
   "metadata": {},
   "outputs": [],
   "source": [
    "framer"
   ]
  },
  {
   "cell_type": "code",
   "execution_count": null,
   "id": "22a42d2e-6825-4d4a-9ee7-8d7aa8f3648e",
   "metadata": {},
   "outputs": [],
   "source": [
    "framer.loc[\"emirates\", \"Economy\"]"
   ]
  },
  {
   "cell_type": "code",
   "execution_count": null,
   "id": "15992f9d-0178-4232-afaa-2385be470b34",
   "metadata": {},
   "outputs": [],
   "source": [
    "framer.isna()"
   ]
  },
  {
   "cell_type": "code",
   "execution_count": null,
   "id": "cb1f51b0-3cb5-4453-8b81-4805228a3f7c",
   "metadata": {},
   "outputs": [],
   "source": [
    "framer.isna().sum(axis=0)"
   ]
  },
  {
   "cell_type": "code",
   "execution_count": null,
   "id": "c5df5674-937f-4e37-a284-c63edcdcdafc",
   "metadata": {},
   "outputs": [],
   "source": [
    "framer.isna().sum(axis=0)"
   ]
  },
  {
   "cell_type": "code",
   "execution_count": null,
   "id": "467944e1-3cba-442f-bc6a-17e6a2a4f369",
   "metadata": {},
   "outputs": [],
   "source": [
    "framer.isna().sum(axis=0).shape"
   ]
  },
  {
   "cell_type": "code",
   "execution_count": null,
   "id": "5cfae8c4-3d29-4c9a-8137-a9d0a0fe9eac",
   "metadata": {},
   "outputs": [],
   "source": [
    "framer.isna().sum(axis=0).shape[1]"
   ]
  },
  {
   "cell_type": "code",
   "execution_count": null,
   "id": "ae3b4ffb-bf73-4e3e-bde6-f2abf75f9bc9",
   "metadata": {},
   "outputs": [],
   "source": [
    "framer.isna().sum(axis=0).str.len()"
   ]
  }
 ],
 "metadata": {
  "kernelspec": {
   "display_name": "Python 3 (ipykernel)",
   "language": "python",
   "name": "python3"
  },
  "language_info": {
   "codemirror_mode": {
    "name": "ipython",
    "version": 3
   },
   "file_extension": ".py",
   "mimetype": "text/x-python",
   "name": "python",
   "nbconvert_exporter": "python",
   "pygments_lexer": "ipython3",
   "version": "3.11.5"
  }
 },
 "nbformat": 4,
 "nbformat_minor": 5
}
